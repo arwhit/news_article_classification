{
  "cells": [
    {
      "cell_type": "markdown",
      "metadata": {
        "id": "vBVrSZE47UNQ"
      },
      "source": [
        "# Supervised Text Classification Final: Health and Wellness Classification"
      ]
    },
    {
      "cell_type": "markdown",
      "metadata": {
        "id": "8ERHzPAZCE9t"
      },
      "source": [
        "This document is the final project for DTSA 5798: Supervised Text Classification. The project's main goal is to build and hypertune a text classification model using Bidirectional Encoder Representations from Transformers (BERT) that is capable of classifying articles as health or non-health related to help a company advertise to their target market.\n",
        "\n",
        "This project aims to improve upon previous course assignments in several key ways:\n",
        "\n",
        "1. **Increase Training Data:** This will involve including more non-health articles, negative cases, for the model to train on.\n",
        "\n",
        "2. **Utilize adjusted learning rate with Adam Optimization:** Instead of a fixed learning rate, a form of Adam Optimization, a type of stochastic gradient descent, will be implemented to dynamically update the learning rate during training.\n",
        "\n",
        "3. **Leverage more recent versions of BERT with TensorFlow and Keras:** The ktrain API wrapper will be bypassed in favor of using TensorFlow and Keras directly to implement the latest versions of BERT.\n",
        "\n",
        "***NOTE: This notebook can take several hours to run depending on computational resources used and may time out if you are using the free version of Google Colab. If you are interested in seeing the results without running the notebook I reccomend viewing the PDF of notebook with all outputs on my GitHub repository here: https://github.com/arwhit/news_article_classification***"
      ]
    },
    {
      "cell_type": "markdown",
      "metadata": {
        "id": "hGSUArJ_ZYN3"
      },
      "source": [
        "## Installs and Imports"
      ]
    },
    {
      "cell_type": "code",
      "execution_count": null,
      "metadata": {
        "id": "16hoKG5dbeWs"
      },
      "outputs": [],
      "source": [
        "%%capture\n",
        "!pip install -U \"tensorflow-text==2.13.*\"\n",
        "!pip install \"tf-models-official==2.13.*\"\n",
        "import json\n",
        "import pandas as pd\n",
        "import numpy as np\n",
        "import os\n",
        "import shutil\n",
        "import sklearn.model_selection as sk\n",
        "from sklearn.metrics import precision_recall_fscore_support\n",
        "import tensorflow as tf\n",
        "import tensorflow_hub as hub\n",
        "import tensorflow_text as text\n",
        "import matplotlib.pyplot as plt"
      ]
    },
    {
      "cell_type": "markdown",
      "metadata": {
        "id": "E3XGSpfy0xPv"
      },
      "source": [
        "## Ensure Runtime Type is at a minimum a GPU\n",
        "\n",
        "If the runtime is not connected to a GPU do the following: Runtime > Change Runtime Type > GPU\n",
        "\n",
        "The following code snippet from the ktrain lab shows runtime GPU information"
      ]
    },
    {
      "cell_type": "code",
      "execution_count": null,
      "metadata": {
        "id": "I0GWta-7ELIN",
        "colab": {
          "base_uri": "https://localhost:8080/"
        },
        "outputId": "9408531d-20d3-4e39-ebb4-158eb8a9b3cd"
      },
      "outputs": [
        {
          "output_type": "stream",
          "name": "stdout",
          "text": [
            "Sun Jun  2 23:51:30 2024       \n",
            "+---------------------------------------------------------------------------------------+\n",
            "| NVIDIA-SMI 535.104.05             Driver Version: 535.104.05   CUDA Version: 12.2     |\n",
            "|-----------------------------------------+----------------------+----------------------+\n",
            "| GPU  Name                 Persistence-M | Bus-Id        Disp.A | Volatile Uncorr. ECC |\n",
            "| Fan  Temp   Perf          Pwr:Usage/Cap |         Memory-Usage | GPU-Util  Compute M. |\n",
            "|                                         |                      |               MIG M. |\n",
            "|=========================================+======================+======================|\n",
            "|   0  Tesla T4                       Off | 00000000:00:04.0 Off |                    0 |\n",
            "| N/A   39C    P8               9W /  70W |      0MiB / 15360MiB |      0%      Default |\n",
            "|                                         |                      |                  N/A |\n",
            "+-----------------------------------------+----------------------+----------------------+\n",
            "                                                                                         \n",
            "+---------------------------------------------------------------------------------------+\n",
            "| Processes:                                                                            |\n",
            "|  GPU   GI   CI        PID   Type   Process name                            GPU Memory |\n",
            "|        ID   ID                                                             Usage      |\n",
            "|=======================================================================================|\n",
            "|  No running processes found                                                           |\n",
            "+---------------------------------------------------------------------------------------+\n"
          ]
        }
      ],
      "source": [
        "gpu_info = !nvidia-smi\n",
        "gpu_info = '\\n'.join(gpu_info)\n",
        "if gpu_info.find('failed') >= 0:\n",
        "  print('Not connected to a GPU')\n",
        "else:\n",
        "  print(gpu_info)"
      ]
    },
    {
      "cell_type": "markdown",
      "metadata": {
        "id": "oLd-Qkl7Djha"
      },
      "source": [
        "## Load the data"
      ]
    },
    {
      "cell_type": "markdown",
      "metadata": {
        "id": "idE4-ojt0-dH"
      },
      "source": [
        "For ease of use the data file has been uploaded and can be accessed from a public GitHub repository"
      ]
    },
    {
      "cell_type": "code",
      "execution_count": null,
      "metadata": {
        "colab": {
          "base_uri": "https://localhost:8080/",
          "height": 293
        },
        "id": "a7mhLblG6saq",
        "outputId": "58fbf24c-d76c-4c49-dde1-f43b2ffaed62"
      },
      "outputs": [
        {
          "output_type": "execute_result",
          "data": {
            "text/plain": [
              "        category                                           headline  \\\n",
              "0          CRIME  There Were 2 Mass Shootings In Texas Last Week...   \n",
              "1  ENTERTAINMENT  Will Smith Joins Diplo And Nicky Jam For The 2...   \n",
              "2  ENTERTAINMENT    Hugh Grant Marries For The First Time At Age 57   \n",
              "3  ENTERTAINMENT  Jim Carrey Blasts 'Castrato' Adam Schiff And D...   \n",
              "4  ENTERTAINMENT  Julianna Margulies Uses Donald Trump Poop Bags...   \n",
              "\n",
              "           authors                                               link  \\\n",
              "0  Melissa Jeltsen  https://www.huffingtonpost.com/entry/texas-ama...   \n",
              "1    Andy McDonald  https://www.huffingtonpost.com/entry/will-smit...   \n",
              "2       Ron Dicker  https://www.huffingtonpost.com/entry/hugh-gran...   \n",
              "3       Ron Dicker  https://www.huffingtonpost.com/entry/jim-carre...   \n",
              "4       Ron Dicker  https://www.huffingtonpost.com/entry/julianna-...   \n",
              "\n",
              "                                   short_description       date  \n",
              "0  She left her husband. He killed their children... 2018-05-26  \n",
              "1                           Of course it has a song. 2018-05-26  \n",
              "2  The actor and his longtime girlfriend Anna Ebe... 2018-05-26  \n",
              "3  The actor gives Dems an ass-kicking for not fi... 2018-05-26  \n",
              "4  The \"Dietland\" actress said using the bags is ... 2018-05-26  "
            ],
            "text/html": [
              "\n",
              "  <div id=\"df-eb2af5e5-60c0-4f65-9deb-649ce8f963a8\" class=\"colab-df-container\">\n",
              "    <div>\n",
              "<style scoped>\n",
              "    .dataframe tbody tr th:only-of-type {\n",
              "        vertical-align: middle;\n",
              "    }\n",
              "\n",
              "    .dataframe tbody tr th {\n",
              "        vertical-align: top;\n",
              "    }\n",
              "\n",
              "    .dataframe thead th {\n",
              "        text-align: right;\n",
              "    }\n",
              "</style>\n",
              "<table border=\"1\" class=\"dataframe\">\n",
              "  <thead>\n",
              "    <tr style=\"text-align: right;\">\n",
              "      <th></th>\n",
              "      <th>category</th>\n",
              "      <th>headline</th>\n",
              "      <th>authors</th>\n",
              "      <th>link</th>\n",
              "      <th>short_description</th>\n",
              "      <th>date</th>\n",
              "    </tr>\n",
              "  </thead>\n",
              "  <tbody>\n",
              "    <tr>\n",
              "      <th>0</th>\n",
              "      <td>CRIME</td>\n",
              "      <td>There Were 2 Mass Shootings In Texas Last Week...</td>\n",
              "      <td>Melissa Jeltsen</td>\n",
              "      <td>https://www.huffingtonpost.com/entry/texas-ama...</td>\n",
              "      <td>She left her husband. He killed their children...</td>\n",
              "      <td>2018-05-26</td>\n",
              "    </tr>\n",
              "    <tr>\n",
              "      <th>1</th>\n",
              "      <td>ENTERTAINMENT</td>\n",
              "      <td>Will Smith Joins Diplo And Nicky Jam For The 2...</td>\n",
              "      <td>Andy McDonald</td>\n",
              "      <td>https://www.huffingtonpost.com/entry/will-smit...</td>\n",
              "      <td>Of course it has a song.</td>\n",
              "      <td>2018-05-26</td>\n",
              "    </tr>\n",
              "    <tr>\n",
              "      <th>2</th>\n",
              "      <td>ENTERTAINMENT</td>\n",
              "      <td>Hugh Grant Marries For The First Time At Age 57</td>\n",
              "      <td>Ron Dicker</td>\n",
              "      <td>https://www.huffingtonpost.com/entry/hugh-gran...</td>\n",
              "      <td>The actor and his longtime girlfriend Anna Ebe...</td>\n",
              "      <td>2018-05-26</td>\n",
              "    </tr>\n",
              "    <tr>\n",
              "      <th>3</th>\n",
              "      <td>ENTERTAINMENT</td>\n",
              "      <td>Jim Carrey Blasts 'Castrato' Adam Schiff And D...</td>\n",
              "      <td>Ron Dicker</td>\n",
              "      <td>https://www.huffingtonpost.com/entry/jim-carre...</td>\n",
              "      <td>The actor gives Dems an ass-kicking for not fi...</td>\n",
              "      <td>2018-05-26</td>\n",
              "    </tr>\n",
              "    <tr>\n",
              "      <th>4</th>\n",
              "      <td>ENTERTAINMENT</td>\n",
              "      <td>Julianna Margulies Uses Donald Trump Poop Bags...</td>\n",
              "      <td>Ron Dicker</td>\n",
              "      <td>https://www.huffingtonpost.com/entry/julianna-...</td>\n",
              "      <td>The \"Dietland\" actress said using the bags is ...</td>\n",
              "      <td>2018-05-26</td>\n",
              "    </tr>\n",
              "  </tbody>\n",
              "</table>\n",
              "</div>\n",
              "    <div class=\"colab-df-buttons\">\n",
              "\n",
              "  <div class=\"colab-df-container\">\n",
              "    <button class=\"colab-df-convert\" onclick=\"convertToInteractive('df-eb2af5e5-60c0-4f65-9deb-649ce8f963a8')\"\n",
              "            title=\"Convert this dataframe to an interactive table.\"\n",
              "            style=\"display:none;\">\n",
              "\n",
              "  <svg xmlns=\"http://www.w3.org/2000/svg\" height=\"24px\" viewBox=\"0 -960 960 960\">\n",
              "    <path d=\"M120-120v-720h720v720H120Zm60-500h600v-160H180v160Zm220 220h160v-160H400v160Zm0 220h160v-160H400v160ZM180-400h160v-160H180v160Zm440 0h160v-160H620v160ZM180-180h160v-160H180v160Zm440 0h160v-160H620v160Z\"/>\n",
              "  </svg>\n",
              "    </button>\n",
              "\n",
              "  <style>\n",
              "    .colab-df-container {\n",
              "      display:flex;\n",
              "      gap: 12px;\n",
              "    }\n",
              "\n",
              "    .colab-df-convert {\n",
              "      background-color: #E8F0FE;\n",
              "      border: none;\n",
              "      border-radius: 50%;\n",
              "      cursor: pointer;\n",
              "      display: none;\n",
              "      fill: #1967D2;\n",
              "      height: 32px;\n",
              "      padding: 0 0 0 0;\n",
              "      width: 32px;\n",
              "    }\n",
              "\n",
              "    .colab-df-convert:hover {\n",
              "      background-color: #E2EBFA;\n",
              "      box-shadow: 0px 1px 2px rgba(60, 64, 67, 0.3), 0px 1px 3px 1px rgba(60, 64, 67, 0.15);\n",
              "      fill: #174EA6;\n",
              "    }\n",
              "\n",
              "    .colab-df-buttons div {\n",
              "      margin-bottom: 4px;\n",
              "    }\n",
              "\n",
              "    [theme=dark] .colab-df-convert {\n",
              "      background-color: #3B4455;\n",
              "      fill: #D2E3FC;\n",
              "    }\n",
              "\n",
              "    [theme=dark] .colab-df-convert:hover {\n",
              "      background-color: #434B5C;\n",
              "      box-shadow: 0px 1px 3px 1px rgba(0, 0, 0, 0.15);\n",
              "      filter: drop-shadow(0px 1px 2px rgba(0, 0, 0, 0.3));\n",
              "      fill: #FFFFFF;\n",
              "    }\n",
              "  </style>\n",
              "\n",
              "    <script>\n",
              "      const buttonEl =\n",
              "        document.querySelector('#df-eb2af5e5-60c0-4f65-9deb-649ce8f963a8 button.colab-df-convert');\n",
              "      buttonEl.style.display =\n",
              "        google.colab.kernel.accessAllowed ? 'block' : 'none';\n",
              "\n",
              "      async function convertToInteractive(key) {\n",
              "        const element = document.querySelector('#df-eb2af5e5-60c0-4f65-9deb-649ce8f963a8');\n",
              "        const dataTable =\n",
              "          await google.colab.kernel.invokeFunction('convertToInteractive',\n",
              "                                                    [key], {});\n",
              "        if (!dataTable) return;\n",
              "\n",
              "        const docLinkHtml = 'Like what you see? Visit the ' +\n",
              "          '<a target=\"_blank\" href=https://colab.research.google.com/notebooks/data_table.ipynb>data table notebook</a>'\n",
              "          + ' to learn more about interactive tables.';\n",
              "        element.innerHTML = '';\n",
              "        dataTable['output_type'] = 'display_data';\n",
              "        await google.colab.output.renderOutput(dataTable, element);\n",
              "        const docLink = document.createElement('div');\n",
              "        docLink.innerHTML = docLinkHtml;\n",
              "        element.appendChild(docLink);\n",
              "      }\n",
              "    </script>\n",
              "  </div>\n",
              "\n",
              "\n",
              "<div id=\"df-ad802fef-1f95-429c-bad8-da0c97600ff1\">\n",
              "  <button class=\"colab-df-quickchart\" onclick=\"quickchart('df-ad802fef-1f95-429c-bad8-da0c97600ff1')\"\n",
              "            title=\"Suggest charts\"\n",
              "            style=\"display:none;\">\n",
              "\n",
              "<svg xmlns=\"http://www.w3.org/2000/svg\" height=\"24px\"viewBox=\"0 0 24 24\"\n",
              "     width=\"24px\">\n",
              "    <g>\n",
              "        <path d=\"M19 3H5c-1.1 0-2 .9-2 2v14c0 1.1.9 2 2 2h14c1.1 0 2-.9 2-2V5c0-1.1-.9-2-2-2zM9 17H7v-7h2v7zm4 0h-2V7h2v10zm4 0h-2v-4h2v4z\"/>\n",
              "    </g>\n",
              "</svg>\n",
              "  </button>\n",
              "\n",
              "<style>\n",
              "  .colab-df-quickchart {\n",
              "      --bg-color: #E8F0FE;\n",
              "      --fill-color: #1967D2;\n",
              "      --hover-bg-color: #E2EBFA;\n",
              "      --hover-fill-color: #174EA6;\n",
              "      --disabled-fill-color: #AAA;\n",
              "      --disabled-bg-color: #DDD;\n",
              "  }\n",
              "\n",
              "  [theme=dark] .colab-df-quickchart {\n",
              "      --bg-color: #3B4455;\n",
              "      --fill-color: #D2E3FC;\n",
              "      --hover-bg-color: #434B5C;\n",
              "      --hover-fill-color: #FFFFFF;\n",
              "      --disabled-bg-color: #3B4455;\n",
              "      --disabled-fill-color: #666;\n",
              "  }\n",
              "\n",
              "  .colab-df-quickchart {\n",
              "    background-color: var(--bg-color);\n",
              "    border: none;\n",
              "    border-radius: 50%;\n",
              "    cursor: pointer;\n",
              "    display: none;\n",
              "    fill: var(--fill-color);\n",
              "    height: 32px;\n",
              "    padding: 0;\n",
              "    width: 32px;\n",
              "  }\n",
              "\n",
              "  .colab-df-quickchart:hover {\n",
              "    background-color: var(--hover-bg-color);\n",
              "    box-shadow: 0 1px 2px rgba(60, 64, 67, 0.3), 0 1px 3px 1px rgba(60, 64, 67, 0.15);\n",
              "    fill: var(--button-hover-fill-color);\n",
              "  }\n",
              "\n",
              "  .colab-df-quickchart-complete:disabled,\n",
              "  .colab-df-quickchart-complete:disabled:hover {\n",
              "    background-color: var(--disabled-bg-color);\n",
              "    fill: var(--disabled-fill-color);\n",
              "    box-shadow: none;\n",
              "  }\n",
              "\n",
              "  .colab-df-spinner {\n",
              "    border: 2px solid var(--fill-color);\n",
              "    border-color: transparent;\n",
              "    border-bottom-color: var(--fill-color);\n",
              "    animation:\n",
              "      spin 1s steps(1) infinite;\n",
              "  }\n",
              "\n",
              "  @keyframes spin {\n",
              "    0% {\n",
              "      border-color: transparent;\n",
              "      border-bottom-color: var(--fill-color);\n",
              "      border-left-color: var(--fill-color);\n",
              "    }\n",
              "    20% {\n",
              "      border-color: transparent;\n",
              "      border-left-color: var(--fill-color);\n",
              "      border-top-color: var(--fill-color);\n",
              "    }\n",
              "    30% {\n",
              "      border-color: transparent;\n",
              "      border-left-color: var(--fill-color);\n",
              "      border-top-color: var(--fill-color);\n",
              "      border-right-color: var(--fill-color);\n",
              "    }\n",
              "    40% {\n",
              "      border-color: transparent;\n",
              "      border-right-color: var(--fill-color);\n",
              "      border-top-color: var(--fill-color);\n",
              "    }\n",
              "    60% {\n",
              "      border-color: transparent;\n",
              "      border-right-color: var(--fill-color);\n",
              "    }\n",
              "    80% {\n",
              "      border-color: transparent;\n",
              "      border-right-color: var(--fill-color);\n",
              "      border-bottom-color: var(--fill-color);\n",
              "    }\n",
              "    90% {\n",
              "      border-color: transparent;\n",
              "      border-bottom-color: var(--fill-color);\n",
              "    }\n",
              "  }\n",
              "</style>\n",
              "\n",
              "  <script>\n",
              "    async function quickchart(key) {\n",
              "      const quickchartButtonEl =\n",
              "        document.querySelector('#' + key + ' button');\n",
              "      quickchartButtonEl.disabled = true;  // To prevent multiple clicks.\n",
              "      quickchartButtonEl.classList.add('colab-df-spinner');\n",
              "      try {\n",
              "        const charts = await google.colab.kernel.invokeFunction(\n",
              "            'suggestCharts', [key], {});\n",
              "      } catch (error) {\n",
              "        console.error('Error during call to suggestCharts:', error);\n",
              "      }\n",
              "      quickchartButtonEl.classList.remove('colab-df-spinner');\n",
              "      quickchartButtonEl.classList.add('colab-df-quickchart-complete');\n",
              "    }\n",
              "    (() => {\n",
              "      let quickchartButtonEl =\n",
              "        document.querySelector('#df-ad802fef-1f95-429c-bad8-da0c97600ff1 button');\n",
              "      quickchartButtonEl.style.display =\n",
              "        google.colab.kernel.accessAllowed ? 'block' : 'none';\n",
              "    })();\n",
              "  </script>\n",
              "</div>\n",
              "\n",
              "    </div>\n",
              "  </div>\n"
            ],
            "application/vnd.google.colaboratory.intrinsic+json": {
              "type": "dataframe",
              "variable_name": "reviews"
            }
          },
          "metadata": {},
          "execution_count": 3
        }
      ],
      "source": [
        "url='https://raw.githubusercontent.com/arwhit/news_article_classification/main/news_category_trainingdata.json'\n",
        "reviews = pd.read_json(url)\n",
        "reviews.head()\n",
        "\n"
      ]
    },
    {
      "cell_type": "markdown",
      "metadata": {
        "id": "HbCERZaXG0p-"
      },
      "source": [
        "## Data Cleaning\n",
        "\n",
        "We will follow a similar approach to the ktrain lab for data preprocessing. Here are the steps involved:\n",
        "\n",
        "1. **Combine Text Columns:** All text data used for training will be merged into a single column.\n",
        "\n",
        "2. **Create Binary Label:** A binary label for \"healthy living\" will be created. Articles classified as \"healthy living\" will be assigned a label of 1, while all other news categories will be assigned a label of 0."
      ]
    },
    {
      "cell_type": "code",
      "execution_count": null,
      "metadata": {
        "id": "F6VLEzaSuDyx"
      },
      "outputs": [],
      "source": [
        "#combine the headline and short description text\n",
        "reviews['combined_text'] = reviews['headline'] + ' ' + reviews['short_description']\n",
        "#create the healthy classification\n",
        "reviews['healthy'] = np.where((reviews['category'] == 'HEALTHY LIVING'), 1, 0)"
      ]
    },
    {
      "cell_type": "markdown",
      "metadata": {
        "id": "YKvESWUF5f4Y"
      },
      "source": [
        "lets also preview some articles classified as healthy"
      ]
    },
    {
      "cell_type": "code",
      "execution_count": null,
      "metadata": {
        "colab": {
          "base_uri": "https://localhost:8080/",
          "height": 432
        },
        "id": "Bz1PoZOPriCk",
        "outputId": "3e0b72f6-b016-4e3b-a5f4-7f5329365c01"
      },
      "outputs": [
        {
          "output_type": "execute_result",
          "data": {
            "text/plain": [
              "              category                                           headline  \\\n",
              "22288   HEALTHY LIVING                        4 Ways To Beat Your Bad Day   \n",
              "38806   HEALTHY LIVING  New Year's Resolutions Are Bound To Fail. Try ...   \n",
              "21425   HEALTHY LIVING  How To Deal With The Side Effects Of Breast Ca...   \n",
              "109338  HEALTHY LIVING  Got Yoga? Insights and Breath Into the Heart a...   \n",
              "69221   HEALTHY LIVING  Pregnant Women Shouldn't Travel To Countries W...   \n",
              "\n",
              "                                                  authors  \\\n",
              "22288   meQuilibrium, ContributorPersonalized Stress M...   \n",
              "38806                                    Carolyn Gregoire   \n",
              "21425   Barbara Jacoby, ContributorAward winning blogg...   \n",
              "109338  Amy Elias, MS, ContributorCulture, Change and ...   \n",
              "69221                                     Anna Almendrala   \n",
              "\n",
              "                                                     link  \\\n",
              "22288   https://www.huffingtonpost.com/entry/4-ways-to...   \n",
              "38806   https://www.huffingtonpost.com/entry/new-years...   \n",
              "21425   https://www.huffingtonpost.com/entry/dealing-w...   \n",
              "109338  https://www.huffingtonpost.com/entry/got-yoga-...   \n",
              "69221   https://www.huffingtonpost.com/entry/cdc-trave...   \n",
              "\n",
              "                                        short_description       date  \\\n",
              "22288   When something goes wrong, it’s tempting to wr... 2017-07-05   \n",
              "38806         Skip the all-or-none resolutions this year. 2016-12-28   \n",
              "21425   Anyone who has watched television has most lik... 2017-07-15   \n",
              "109338  When your yoga teacher, or the one that lives ... 2014-10-15   \n",
              "69221   The mosquito-borne illness may cause birth def... 2016-01-16   \n",
              "\n",
              "                                            combined_text  healthy  \n",
              "22288   4 Ways To Beat Your Bad Day When something goe...        1  \n",
              "38806   New Year's Resolutions Are Bound To Fail. Try ...        1  \n",
              "21425   How To Deal With The Side Effects Of Breast Ca...        1  \n",
              "109338  Got Yoga? Insights and Breath Into the Heart a...        1  \n",
              "69221   Pregnant Women Shouldn't Travel To Countries W...        1  "
            ],
            "text/html": [
              "\n",
              "  <div id=\"df-00b085f0-52f7-470e-8e29-2d6a88f86c30\" class=\"colab-df-container\">\n",
              "    <div>\n",
              "<style scoped>\n",
              "    .dataframe tbody tr th:only-of-type {\n",
              "        vertical-align: middle;\n",
              "    }\n",
              "\n",
              "    .dataframe tbody tr th {\n",
              "        vertical-align: top;\n",
              "    }\n",
              "\n",
              "    .dataframe thead th {\n",
              "        text-align: right;\n",
              "    }\n",
              "</style>\n",
              "<table border=\"1\" class=\"dataframe\">\n",
              "  <thead>\n",
              "    <tr style=\"text-align: right;\">\n",
              "      <th></th>\n",
              "      <th>category</th>\n",
              "      <th>headline</th>\n",
              "      <th>authors</th>\n",
              "      <th>link</th>\n",
              "      <th>short_description</th>\n",
              "      <th>date</th>\n",
              "      <th>combined_text</th>\n",
              "      <th>healthy</th>\n",
              "    </tr>\n",
              "  </thead>\n",
              "  <tbody>\n",
              "    <tr>\n",
              "      <th>22288</th>\n",
              "      <td>HEALTHY LIVING</td>\n",
              "      <td>4 Ways To Beat Your Bad Day</td>\n",
              "      <td>meQuilibrium, ContributorPersonalized Stress M...</td>\n",
              "      <td>https://www.huffingtonpost.com/entry/4-ways-to...</td>\n",
              "      <td>When something goes wrong, it’s tempting to wr...</td>\n",
              "      <td>2017-07-05</td>\n",
              "      <td>4 Ways To Beat Your Bad Day When something goe...</td>\n",
              "      <td>1</td>\n",
              "    </tr>\n",
              "    <tr>\n",
              "      <th>38806</th>\n",
              "      <td>HEALTHY LIVING</td>\n",
              "      <td>New Year's Resolutions Are Bound To Fail. Try ...</td>\n",
              "      <td>Carolyn Gregoire</td>\n",
              "      <td>https://www.huffingtonpost.com/entry/new-years...</td>\n",
              "      <td>Skip the all-or-none resolutions this year.</td>\n",
              "      <td>2016-12-28</td>\n",
              "      <td>New Year's Resolutions Are Bound To Fail. Try ...</td>\n",
              "      <td>1</td>\n",
              "    </tr>\n",
              "    <tr>\n",
              "      <th>21425</th>\n",
              "      <td>HEALTHY LIVING</td>\n",
              "      <td>How To Deal With The Side Effects Of Breast Ca...</td>\n",
              "      <td>Barbara Jacoby, ContributorAward winning blogg...</td>\n",
              "      <td>https://www.huffingtonpost.com/entry/dealing-w...</td>\n",
              "      <td>Anyone who has watched television has most lik...</td>\n",
              "      <td>2017-07-15</td>\n",
              "      <td>How To Deal With The Side Effects Of Breast Ca...</td>\n",
              "      <td>1</td>\n",
              "    </tr>\n",
              "    <tr>\n",
              "      <th>109338</th>\n",
              "      <td>HEALTHY LIVING</td>\n",
              "      <td>Got Yoga? Insights and Breath Into the Heart a...</td>\n",
              "      <td>Amy Elias, MS, ContributorCulture, Change and ...</td>\n",
              "      <td>https://www.huffingtonpost.com/entry/got-yoga-...</td>\n",
              "      <td>When your yoga teacher, or the one that lives ...</td>\n",
              "      <td>2014-10-15</td>\n",
              "      <td>Got Yoga? Insights and Breath Into the Heart a...</td>\n",
              "      <td>1</td>\n",
              "    </tr>\n",
              "    <tr>\n",
              "      <th>69221</th>\n",
              "      <td>HEALTHY LIVING</td>\n",
              "      <td>Pregnant Women Shouldn't Travel To Countries W...</td>\n",
              "      <td>Anna Almendrala</td>\n",
              "      <td>https://www.huffingtonpost.com/entry/cdc-trave...</td>\n",
              "      <td>The mosquito-borne illness may cause birth def...</td>\n",
              "      <td>2016-01-16</td>\n",
              "      <td>Pregnant Women Shouldn't Travel To Countries W...</td>\n",
              "      <td>1</td>\n",
              "    </tr>\n",
              "  </tbody>\n",
              "</table>\n",
              "</div>\n",
              "    <div class=\"colab-df-buttons\">\n",
              "\n",
              "  <div class=\"colab-df-container\">\n",
              "    <button class=\"colab-df-convert\" onclick=\"convertToInteractive('df-00b085f0-52f7-470e-8e29-2d6a88f86c30')\"\n",
              "            title=\"Convert this dataframe to an interactive table.\"\n",
              "            style=\"display:none;\">\n",
              "\n",
              "  <svg xmlns=\"http://www.w3.org/2000/svg\" height=\"24px\" viewBox=\"0 -960 960 960\">\n",
              "    <path d=\"M120-120v-720h720v720H120Zm60-500h600v-160H180v160Zm220 220h160v-160H400v160Zm0 220h160v-160H400v160ZM180-400h160v-160H180v160Zm440 0h160v-160H620v160ZM180-180h160v-160H180v160Zm440 0h160v-160H620v160Z\"/>\n",
              "  </svg>\n",
              "    </button>\n",
              "\n",
              "  <style>\n",
              "    .colab-df-container {\n",
              "      display:flex;\n",
              "      gap: 12px;\n",
              "    }\n",
              "\n",
              "    .colab-df-convert {\n",
              "      background-color: #E8F0FE;\n",
              "      border: none;\n",
              "      border-radius: 50%;\n",
              "      cursor: pointer;\n",
              "      display: none;\n",
              "      fill: #1967D2;\n",
              "      height: 32px;\n",
              "      padding: 0 0 0 0;\n",
              "      width: 32px;\n",
              "    }\n",
              "\n",
              "    .colab-df-convert:hover {\n",
              "      background-color: #E2EBFA;\n",
              "      box-shadow: 0px 1px 2px rgba(60, 64, 67, 0.3), 0px 1px 3px 1px rgba(60, 64, 67, 0.15);\n",
              "      fill: #174EA6;\n",
              "    }\n",
              "\n",
              "    .colab-df-buttons div {\n",
              "      margin-bottom: 4px;\n",
              "    }\n",
              "\n",
              "    [theme=dark] .colab-df-convert {\n",
              "      background-color: #3B4455;\n",
              "      fill: #D2E3FC;\n",
              "    }\n",
              "\n",
              "    [theme=dark] .colab-df-convert:hover {\n",
              "      background-color: #434B5C;\n",
              "      box-shadow: 0px 1px 3px 1px rgba(0, 0, 0, 0.15);\n",
              "      filter: drop-shadow(0px 1px 2px rgba(0, 0, 0, 0.3));\n",
              "      fill: #FFFFFF;\n",
              "    }\n",
              "  </style>\n",
              "\n",
              "    <script>\n",
              "      const buttonEl =\n",
              "        document.querySelector('#df-00b085f0-52f7-470e-8e29-2d6a88f86c30 button.colab-df-convert');\n",
              "      buttonEl.style.display =\n",
              "        google.colab.kernel.accessAllowed ? 'block' : 'none';\n",
              "\n",
              "      async function convertToInteractive(key) {\n",
              "        const element = document.querySelector('#df-00b085f0-52f7-470e-8e29-2d6a88f86c30');\n",
              "        const dataTable =\n",
              "          await google.colab.kernel.invokeFunction('convertToInteractive',\n",
              "                                                    [key], {});\n",
              "        if (!dataTable) return;\n",
              "\n",
              "        const docLinkHtml = 'Like what you see? Visit the ' +\n",
              "          '<a target=\"_blank\" href=https://colab.research.google.com/notebooks/data_table.ipynb>data table notebook</a>'\n",
              "          + ' to learn more about interactive tables.';\n",
              "        element.innerHTML = '';\n",
              "        dataTable['output_type'] = 'display_data';\n",
              "        await google.colab.output.renderOutput(dataTable, element);\n",
              "        const docLink = document.createElement('div');\n",
              "        docLink.innerHTML = docLinkHtml;\n",
              "        element.appendChild(docLink);\n",
              "      }\n",
              "    </script>\n",
              "  </div>\n",
              "\n",
              "\n",
              "<div id=\"df-f5349b82-c2b8-4b5e-a1f4-cd4a8f18fa73\">\n",
              "  <button class=\"colab-df-quickchart\" onclick=\"quickchart('df-f5349b82-c2b8-4b5e-a1f4-cd4a8f18fa73')\"\n",
              "            title=\"Suggest charts\"\n",
              "            style=\"display:none;\">\n",
              "\n",
              "<svg xmlns=\"http://www.w3.org/2000/svg\" height=\"24px\"viewBox=\"0 0 24 24\"\n",
              "     width=\"24px\">\n",
              "    <g>\n",
              "        <path d=\"M19 3H5c-1.1 0-2 .9-2 2v14c0 1.1.9 2 2 2h14c1.1 0 2-.9 2-2V5c0-1.1-.9-2-2-2zM9 17H7v-7h2v7zm4 0h-2V7h2v10zm4 0h-2v-4h2v4z\"/>\n",
              "    </g>\n",
              "</svg>\n",
              "  </button>\n",
              "\n",
              "<style>\n",
              "  .colab-df-quickchart {\n",
              "      --bg-color: #E8F0FE;\n",
              "      --fill-color: #1967D2;\n",
              "      --hover-bg-color: #E2EBFA;\n",
              "      --hover-fill-color: #174EA6;\n",
              "      --disabled-fill-color: #AAA;\n",
              "      --disabled-bg-color: #DDD;\n",
              "  }\n",
              "\n",
              "  [theme=dark] .colab-df-quickchart {\n",
              "      --bg-color: #3B4455;\n",
              "      --fill-color: #D2E3FC;\n",
              "      --hover-bg-color: #434B5C;\n",
              "      --hover-fill-color: #FFFFFF;\n",
              "      --disabled-bg-color: #3B4455;\n",
              "      --disabled-fill-color: #666;\n",
              "  }\n",
              "\n",
              "  .colab-df-quickchart {\n",
              "    background-color: var(--bg-color);\n",
              "    border: none;\n",
              "    border-radius: 50%;\n",
              "    cursor: pointer;\n",
              "    display: none;\n",
              "    fill: var(--fill-color);\n",
              "    height: 32px;\n",
              "    padding: 0;\n",
              "    width: 32px;\n",
              "  }\n",
              "\n",
              "  .colab-df-quickchart:hover {\n",
              "    background-color: var(--hover-bg-color);\n",
              "    box-shadow: 0 1px 2px rgba(60, 64, 67, 0.3), 0 1px 3px 1px rgba(60, 64, 67, 0.15);\n",
              "    fill: var(--button-hover-fill-color);\n",
              "  }\n",
              "\n",
              "  .colab-df-quickchart-complete:disabled,\n",
              "  .colab-df-quickchart-complete:disabled:hover {\n",
              "    background-color: var(--disabled-bg-color);\n",
              "    fill: var(--disabled-fill-color);\n",
              "    box-shadow: none;\n",
              "  }\n",
              "\n",
              "  .colab-df-spinner {\n",
              "    border: 2px solid var(--fill-color);\n",
              "    border-color: transparent;\n",
              "    border-bottom-color: var(--fill-color);\n",
              "    animation:\n",
              "      spin 1s steps(1) infinite;\n",
              "  }\n",
              "\n",
              "  @keyframes spin {\n",
              "    0% {\n",
              "      border-color: transparent;\n",
              "      border-bottom-color: var(--fill-color);\n",
              "      border-left-color: var(--fill-color);\n",
              "    }\n",
              "    20% {\n",
              "      border-color: transparent;\n",
              "      border-left-color: var(--fill-color);\n",
              "      border-top-color: var(--fill-color);\n",
              "    }\n",
              "    30% {\n",
              "      border-color: transparent;\n",
              "      border-left-color: var(--fill-color);\n",
              "      border-top-color: var(--fill-color);\n",
              "      border-right-color: var(--fill-color);\n",
              "    }\n",
              "    40% {\n",
              "      border-color: transparent;\n",
              "      border-right-color: var(--fill-color);\n",
              "      border-top-color: var(--fill-color);\n",
              "    }\n",
              "    60% {\n",
              "      border-color: transparent;\n",
              "      border-right-color: var(--fill-color);\n",
              "    }\n",
              "    80% {\n",
              "      border-color: transparent;\n",
              "      border-right-color: var(--fill-color);\n",
              "      border-bottom-color: var(--fill-color);\n",
              "    }\n",
              "    90% {\n",
              "      border-color: transparent;\n",
              "      border-bottom-color: var(--fill-color);\n",
              "    }\n",
              "  }\n",
              "</style>\n",
              "\n",
              "  <script>\n",
              "    async function quickchart(key) {\n",
              "      const quickchartButtonEl =\n",
              "        document.querySelector('#' + key + ' button');\n",
              "      quickchartButtonEl.disabled = true;  // To prevent multiple clicks.\n",
              "      quickchartButtonEl.classList.add('colab-df-spinner');\n",
              "      try {\n",
              "        const charts = await google.colab.kernel.invokeFunction(\n",
              "            'suggestCharts', [key], {});\n",
              "      } catch (error) {\n",
              "        console.error('Error during call to suggestCharts:', error);\n",
              "      }\n",
              "      quickchartButtonEl.classList.remove('colab-df-spinner');\n",
              "      quickchartButtonEl.classList.add('colab-df-quickchart-complete');\n",
              "    }\n",
              "    (() => {\n",
              "      let quickchartButtonEl =\n",
              "        document.querySelector('#df-f5349b82-c2b8-4b5e-a1f4-cd4a8f18fa73 button');\n",
              "      quickchartButtonEl.style.display =\n",
              "        google.colab.kernel.accessAllowed ? 'block' : 'none';\n",
              "    })();\n",
              "  </script>\n",
              "</div>\n",
              "\n",
              "    </div>\n",
              "  </div>\n"
            ],
            "application/vnd.google.colaboratory.intrinsic+json": {
              "type": "dataframe",
              "summary": "{\n  \"name\": \"reviews[reviews['healthy']==1]\",\n  \"rows\": 5,\n  \"fields\": [\n    {\n      \"column\": \"category\",\n      \"properties\": {\n        \"dtype\": \"category\",\n        \"num_unique_values\": 1,\n        \"samples\": [\n          \"HEALTHY LIVING\"\n        ],\n        \"semantic_type\": \"\",\n        \"description\": \"\"\n      }\n    },\n    {\n      \"column\": \"headline\",\n      \"properties\": {\n        \"dtype\": \"string\",\n        \"num_unique_values\": 5,\n        \"samples\": [\n          \"New Year's Resolutions Are Bound To Fail. Try This Instead.\"\n        ],\n        \"semantic_type\": \"\",\n        \"description\": \"\"\n      }\n    },\n    {\n      \"column\": \"authors\",\n      \"properties\": {\n        \"dtype\": \"string\",\n        \"num_unique_values\": 5,\n        \"samples\": [\n          \"Carolyn Gregoire\"\n        ],\n        \"semantic_type\": \"\",\n        \"description\": \"\"\n      }\n    },\n    {\n      \"column\": \"link\",\n      \"properties\": {\n        \"dtype\": \"string\",\n        \"num_unique_values\": 5,\n        \"samples\": [\n          \"https://www.huffingtonpost.com/entry/new-years-resolutions-psychology_us_5862d599e4b0d9a59459654c\"\n        ],\n        \"semantic_type\": \"\",\n        \"description\": \"\"\n      }\n    },\n    {\n      \"column\": \"short_description\",\n      \"properties\": {\n        \"dtype\": \"string\",\n        \"num_unique_values\": 5,\n        \"samples\": [\n          \"Skip the all-or-none resolutions this year.\"\n        ],\n        \"semantic_type\": \"\",\n        \"description\": \"\"\n      }\n    },\n    {\n      \"column\": \"date\",\n      \"properties\": {\n        \"dtype\": \"date\",\n        \"min\": \"2014-10-15 00:00:00\",\n        \"max\": \"2017-07-15 00:00:00\",\n        \"num_unique_values\": 5,\n        \"samples\": [\n          \"2016-12-28 00:00:00\"\n        ],\n        \"semantic_type\": \"\",\n        \"description\": \"\"\n      }\n    },\n    {\n      \"column\": \"combined_text\",\n      \"properties\": {\n        \"dtype\": \"string\",\n        \"num_unique_values\": 5,\n        \"samples\": [\n          \"New Year's Resolutions Are Bound To Fail. Try This Instead. Skip the all-or-none resolutions this year.\"\n        ],\n        \"semantic_type\": \"\",\n        \"description\": \"\"\n      }\n    },\n    {\n      \"column\": \"healthy\",\n      \"properties\": {\n        \"dtype\": \"number\",\n        \"std\": 0,\n        \"min\": 1,\n        \"max\": 1,\n        \"num_unique_values\": 1,\n        \"samples\": [\n          1\n        ],\n        \"semantic_type\": \"\",\n        \"description\": \"\"\n      }\n    }\n  ]\n}"
            }
          },
          "metadata": {},
          "execution_count": 5
        }
      ],
      "source": [
        "reviews[reviews['healthy']==1].sample(5)"
      ]
    },
    {
      "cell_type": "markdown",
      "metadata": {
        "id": "BMLzc-eC_f9J"
      },
      "source": [
        "Let's also consider the overall split of health related articles"
      ]
    },
    {
      "cell_type": "code",
      "execution_count": null,
      "metadata": {
        "colab": {
          "base_uri": "https://localhost:8080/"
        },
        "id": "aexMvzhKtyDN",
        "outputId": "73adaeaf-1888-4a52-ab13-182b54d2ef90"
      },
      "outputs": [
        {
          "output_type": "stream",
          "name": "stdout",
          "text": [
            "Of  200853  articles,  6694  are healthy living articles\n",
            "3.332785669121198 % of articles are health related\n"
          ]
        }
      ],
      "source": [
        "print('Of ', str(len(reviews)), ' articles, ', str(len(reviews[reviews['healthy']==1])), ' are healthy living articles')\n",
        "print(str(len(reviews[reviews['healthy']==1])*100/len(reviews)), '% of articles are health related')"
      ]
    },
    {
      "cell_type": "markdown",
      "metadata": {
        "id": "S766s41yJVdf"
      },
      "source": [
        "## Data Preprocessing\n",
        "To enhance model performance compared to previous labs, we will incorporate a larger dataset. Specifically, the dataset will comprise:\n",
        "\n",
        "* **Healthy Living Articles:** One-third (6694 articles) will consist exclusively of health-related articles.\n",
        "\n",
        "* **Non-Health Living Articles:** The remaining two-thirds (10041 articles) will encompass articles from non-health-related news categories.\n",
        "\n",
        "**Preprocessing and Stratification:**\n",
        "\n",
        "During preprocessing, we will create a stratified train/test split. This ensures the ratio of health and non-health articles is preserved in both the training set (90%) and the testing set (10%). This approach helps mitigate potential biases and leads to a more robust model."
      ]
    },
    {
      "cell_type": "code",
      "execution_count": null,
      "metadata": {
        "id": "xfLYND3fam_x"
      },
      "outputs": [],
      "source": [
        "#define columns to keep\n",
        "cols=['combined_text','healthy']\n",
        "\n",
        "#Balanced Dataset with specified random state for reproducibility\n",
        "sample_amount = 6694\n",
        "healthy = reviews[reviews['healthy'] == 1].sample(n=sample_amount, random_state=5)\n",
        "not_healthy = reviews[reviews['healthy'] == 0].sample(n=round(sample_amount*1.5), random_state=5)\n",
        "reviews = pd.concat([healthy, not_healthy])\n",
        "reviews=reviews[cols]\n",
        "#Shuffle\n",
        "reviews = reviews.sample(frac=1, random_state=5).reset_index(drop=True)\n",
        "#Create train/test split\n",
        "xtrain, xtest, ytrain, ytest = sk.train_test_split(reviews['combined_text'], reviews['healthy'],\n",
        "                                                       test_size=0.1,\n",
        "                                                       #keep train and test ratios equal\n",
        "                                                       stratify=reviews['healthy'],\n",
        "                                                       random_state=5)"
      ]
    },
    {
      "cell_type": "markdown",
      "metadata": {
        "id": "yAn06V-xpKLn"
      },
      "source": [
        "**Vectorization and Preprocessing Integration:**\n",
        "\n",
        "While the text will eventually require vectorization, we will integrate the preprocessing steps into the model itself. This approach allows for future text to be passed directly into the model with minimal additional preprocessing.\n",
        "\n",
        "**BERT Model Selection:**\n",
        "\n",
        "Several BERT model variations are available. However, due to limited GPU resources, a smaller BERT model with 4 transformer blocks, 256 Hidden dimmensions, and 4 attention heads will be utilized. This greatly reduces the number of paramaters compared to the standard BERT model that has 12 transformer blocks, 768 hidden dimmensions, and 12 attention heads.\n",
        "\n",
        "**Example of Vectorized Text:**\n",
        "\n",
        "Below is an example of what the text might look like after undergoing vectorization:"
      ]
    },
    {
      "cell_type": "code",
      "execution_count": null,
      "metadata": {
        "colab": {
          "base_uri": "https://localhost:8080/"
        },
        "id": "gCtWVCJviPAG",
        "outputId": "c27d075d-fd10-4c85-a738-cc1a33888757"
      },
      "outputs": [
        {
          "output_type": "stream",
          "name": "stdout",
          "text": [
            "Pooled Outputs Values:[-0.9903946   0.08152626 -0.9994572  -0.9390198   0.09298737  0.99392444\n",
            " -0.11591559 -0.10250869  0.03855637  0.95338476]\n"
          ]
        }
      ],
      "source": [
        "#Example of text preprocessing and encoding\n",
        "example=['This is a sample text']\n",
        "bert_preprocess_model = hub.KerasLayer(\"https://kaggle.com/models/tensorflow/bert/TensorFlow2/en-uncased-preprocess/3\")\n",
        "text_preprocessed = bert_preprocess_model(example)\n",
        "bert_model = hub.KerasLayer(\"https://www.kaggle.com/models/tensorflow/bert/TensorFlow2/bert-en-uncased-l-4-h-256-a-4/2\")\n",
        "results=bert_model(text_preprocessed)\n",
        "print(f'Pooled Outputs Values:{results[\"pooled_output\"][0, :10]}')"
      ]
    },
    {
      "cell_type": "markdown",
      "metadata": {
        "id": "Cljkg1U5aZ3_"
      },
      "source": [
        "# Build and Fine Tuning the Models\n",
        "Now it's time to build, train, and fine-tune the actual model. Since BERT is pre-trained and we are fine-tuning, the model will consist of relatively few layers:\n",
        "\n",
        "1. An input layer\n",
        "2. A preprocessing layer\n",
        "3. The BERT encoding layer\n",
        "4. A dropout layer to prevent overfitting\n",
        "5. A dense layer for the final prediction\n",
        "\n",
        "In an attempt to train on more data, the dataset is no longer balanced, so accuracy is likely not an ideal training metric. To efficiently spend advertising dollars, we should aim to minimize the possibility of false postives, non health related articles wrongly identified as health articles. In order to ensure articles classified as healthy are actualy health related articles, ***precision*** will be used as the primary model evaluation metric for both training and evaluation."
      ]
    },
    {
      "cell_type": "code",
      "execution_count": null,
      "metadata": {
        "colab": {
          "base_uri": "https://localhost:8080/",
          "height": 466
        },
        "id": "mUuRH7iYqPSX",
        "outputId": "c77c8a8d-edf5-41b8-d3ab-7055b222e08e"
      },
      "outputs": [
        {
          "output_type": "execute_result",
          "data": {
            "image/png": "[encoded data removed]",
            "text/plain": [
              "<IPython.core.display.Image object>"
            ]
          },
          "metadata": {},
          "execution_count": 9
        }
      ],
      "source": [
        "#Specify BERT Model to be used\n",
        "preprocess_url=\"https://kaggle.com/models/tensorflow/bert/TensorFlow2/en-uncased-preprocess/3\"\n",
        "encoding_url=\"https://www.kaggle.com/models/tensorflow/bert/TensorFlow2/bert-en-uncased-l-4-h-256-a-4/2\"\n",
        "\n",
        "#Create the Model\n",
        "def build_classifier_model():\n",
        "  text_input = tf.keras.layers.Input(shape=(), dtype=tf.string, name='text')\n",
        "  preprocessing_layer = hub.KerasLayer(preprocess_url, name='preprocessing')\n",
        "  encoder_inputs = preprocessing_layer(text_input)\n",
        "  encoder = hub.KerasLayer(encoding_url, trainable=True, name='BERT_encoder')\n",
        "  outputs = encoder(encoder_inputs)\n",
        "  net = outputs['pooled_output']\n",
        "  net = tf.keras.layers.Dropout(0.1)(net)\n",
        "  net = tf.keras.layers.Dense(1, activation=None, name='classifier')(net)\n",
        "  return tf.keras.Model(text_input, net)\n",
        "\n",
        "#Visualize the Model\n",
        "classifier_model = build_classifier_model()\n",
        "tf.keras.utils.plot_model(classifier_model)"
      ]
    },
    {
      "cell_type": "code",
      "execution_count": null,
      "metadata": {
        "colab": {
          "base_uri": "https://localhost:8080/"
        },
        "id": "RFK2Ag8VwNv1",
        "outputId": "3d453d36-c13b-4868-e96f-5dd44b3611f5"
      },
      "outputs": [
        {
          "output_type": "stream",
          "name": "stdout",
          "text": [
            "Epoch 1/5\n",
            "942/942 [==============================] - 948s 995ms/step - loss: 0.4113 - precision: 0.7949 - val_loss: 0.3339 - val_precision: 0.8293\n",
            "Epoch 2/5\n",
            "942/942 [==============================] - 912s 968ms/step - loss: 0.3156 - precision: 0.8360 - val_loss: 0.3240 - val_precision: 0.7931\n",
            "Epoch 3/5\n",
            "942/942 [==============================] - 908s 964ms/step - loss: 0.2563 - precision: 0.8718 - val_loss: 0.3321 - val_precision: 0.8712\n",
            "Epoch 4/5\n",
            "942/942 [==============================] - 933s 991ms/step - loss: 0.2040 - precision: 0.9011 - val_loss: 0.3443 - val_precision: 0.8516\n",
            "Epoch 5/5\n",
            "942/942 [==============================] - 918s 974ms/step - loss: 0.1576 - precision: 0.9244 - val_loss: 0.4142 - val_precision: 0.8621\n"
          ]
        }
      ],
      "source": [
        "#Make results reproducable\n",
        "tf.keras.utils.set_random_seed(5)\n",
        "#Specify hyperparameters\n",
        "loss = tf.keras.losses.BinaryCrossentropy(from_logits=True)\n",
        "metrics = tf.keras.metrics.Precision()\n",
        "#(note most BERT models require a smaller learning rate than what is default in tf and keras)\n",
        "opt = tf.keras.optimizers.AdamW(learning_rate=3e-5)\n",
        "callback = tf.keras.callbacks.EarlyStopping(monitor='loss', patience=3)\n",
        "#Compile the models\n",
        "classifier_model = build_classifier_model()\n",
        "classifier_model.compile(optimizer=opt, loss=loss, metrics=metrics)\n",
        "#Fit the models\n",
        "history = classifier_model.fit(xtrain, ytrain, batch_size=16, epochs=5, validation_data=(xtest, ytest), callbacks=[callback])"
      ]
    },
    {
      "cell_type": "markdown",
      "metadata": {
        "id": "bqj9ZZ4EQCAP"
      },
      "source": [
        "## Model Evaluation\n",
        "We will visualize the model's performance throughout the training process to gain insights into its learning behavior. This visualization will help us identify potential issues like overfitting or underfitting. To achieve this, we will leverage techniques outlined in a helpful tutorial (source 5)."
      ]
    },
    {
      "cell_type": "code",
      "execution_count": null,
      "metadata": {
        "id": "bQAeX8FlBYO9",
        "colab": {
          "base_uri": "https://localhost:8080/",
          "height": 662
        },
        "outputId": "998148a9-c03b-4920-a6a6-1d22920f9238"
      },
      "outputs": [
        {
          "output_type": "stream",
          "name": "stderr",
          "text": [
            "<ipython-input-11-6cefcef0beb9>:3: MatplotlibDeprecationWarning: The get_cmap function was deprecated in Matplotlib 3.7 and will be removed two minor releases later. Use ``matplotlib.colormaps[name]`` or ``matplotlib.colormaps.get_cmap(obj)`` instead.\n",
            "  grayscale_cmap = plt.cm.get_cmap('gray')\n"
          ]
        },
        {
          "output_type": "display_data",
          "data": {
            "text/plain": [
              "<Figure size 1200x600 with 2 Axes>"
            ],
            "image/png": "[encoded data removed]"
          },
          "metadata": {}
        }
      ],
      "source": [
        "#define plot parameters\n",
        "plt.figure(figsize=(12, 6))\n",
        "grayscale_cmap = plt.cm.get_cmap('gray')\n",
        "train_color = grayscale_cmap(0.7)\n",
        "test_color = grayscale_cmap(0.3)\n",
        "\n",
        "# Plot accuracy, subplot at position 1, row 1, column 1\n",
        "plt.subplot(1, 2, 1)\n",
        "plt.plot(history.history['precision'], color=train_color, label='Train')\n",
        "plt.plot(history.history['val_precision'], color=test_color, label='Test')\n",
        "plt.title('Model Precision')\n",
        "plt.ylabel('Precision')\n",
        "plt.xlabel('Epoch')\n",
        "plt.legend(loc='upper left')\n",
        "\n",
        "# Plot loss, subplot at position 1, row 1, column 2\n",
        "plt.subplot(1, 2, 2)\n",
        "plt.plot(history.history['loss'], color=train_color, label='Train')\n",
        "plt.plot(history.history['val_loss'], color=test_color, label='Test')\n",
        "plt.title('Model Loss')\n",
        "plt.ylabel('Loss')\n",
        "plt.xlabel('Epoch')\n",
        "plt.legend(loc='upper left')\n",
        "\n",
        "plt.tight_layout()"
      ]
    },
    {
      "cell_type": "markdown",
      "metadata": {
        "id": "2XmZUi09BA-v"
      },
      "source": [
        "Now let's extract key evaluation metrics from the trained model. These metrics will allow us to assess the model's performance and compare it to Dr. Vargos' benchmark. This comparison will help us determine if the model achieves a performance level comparable to or exceeding the established benchmark.\n",
        "\n",
        "![benchmark.png](data:image/png;base64,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)\n"
      ]
    },
    {
      "cell_type": "code",
      "execution_count": null,
      "metadata": {
        "id": "HX274hDU0j8R",
        "colab": {
          "base_uri": "https://localhost:8080/"
        },
        "outputId": "0a0ccb74-9d3b-41e3-a82d-d90b7510180d"
      },
      "outputs": [
        {
          "output_type": "stream",
          "name": "stdout",
          "text": [
            "53/53 [==============================] - 28s 518ms/step\n"
          ]
        }
      ],
      "source": [
        "#predict class\n",
        "y_pred = classifier_model.predict(xtest)\n",
        "#round to match orgininal labels\n",
        "for i in range(len(y_pred)):\n",
        "  if y_pred[i] < 0:\n",
        "    y_pred[i] = 0\n",
        "  else:\n",
        "    y_pred[i] = 1"
      ]
    },
    {
      "cell_type": "code",
      "source": [
        "# Unbalanced Results\n",
        "# Use sklearn to calculate key metrics\n",
        "results = precision_recall_fscore_support(y_true=ytest, y_pred=y_pred)\n",
        "# create metrics dataframe\n",
        "mets = pd.DataFrame({'Precision': results[0],\n",
        "                   'Recall': results[1],\n",
        "                   'F1-Score': results[2],\n",
        "                   'Support': results[3]},\n",
        "                  index=['Non Health', 'Health'])\n",
        "print(mets)"
      ],
      "metadata": {
        "colab": {
          "base_uri": "https://localhost:8080/"
        },
        "id": "2FbvgPIzsESY",
        "outputId": "e0ec6f30-38be-4424-f869-17b65e0ee7e2"
      },
      "execution_count": null,
      "outputs": [
        {
          "output_type": "stream",
          "name": "stdout",
          "text": [
            "            Precision    Recall  F1-Score  Support\n",
            "Non Health   0.882066  0.901394  0.891626     1004\n",
            "Health       0.847222  0.819403  0.833080      670\n"
          ]
        }
      ]
    },
    {
      "cell_type": "markdown",
      "metadata": {
        "id": "1g4KhsgzoQgr"
      },
      "source": [
        "##Conclusions\n",
        "Fine-tuning pre-trained models like BERT offers a powerful approach to achieving good results on marketing classification tasks.\n",
        "\n",
        "While less computationally expensive than training from scratch, fine-tuning still requires significant resources which is a limiting factor for free-tier Google Colab users wishing to fine tune larger models.\n",
        "\n",
        "Simpler linear models, like the onse shown in the class tutorials, can be trained more quickly in Colab and have relatively similar reuslts to smaller BERT models, but I suspect the performace gap would widen in a real-world scenario where a company with a substantial advertising budget is willing to invest in computational resources above what is availalbe for free through google colab to develop robust fine-tuned models"
      ]
    },
    {
      "cell_type": "markdown",
      "metadata": {
        "id": "1o9GW2qAsfCA"
      },
      "source": [
        "##Sources\n",
        "\n",
        "1. https://www.tensorflow.org/text/tutorials/classify_text_with_bert\n",
        "2. https://machinelearningmastery.com/adam-optimization-algorithm-for-deep-learning/\n",
        "3. https://www.kaggle.com/models/tensorflow/bert\n",
        "4. https://arxiv.org/pdf/1810.04805"
      ]
    }
  ],
  "metadata": {
    "accelerator": "GPU",
    "colab": {
      "gpuType": "T4",
      "provenance": []
    },
    "kernelspec": {
      "display_name": "Python 3",
      "name": "python3"
    }
  },
  "nbformat": 4,
  "nbformat_minor": 0
}